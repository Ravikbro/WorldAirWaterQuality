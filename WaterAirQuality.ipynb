{
  "nbformat": 4,
  "nbformat_minor": 0,
  "metadata": {
    "colab": {
      "name": "WaterAirQuality.ipynb",
      "private_outputs": true,
      "provenance": [],
      "collapsed_sections": []
    },
    "kernelspec": {
      "name": "python3",
      "display_name": "Python 3"
    },
    "language_info": {
      "name": "python"
    }
  },
  "cells": [
    {
      "cell_type": "code",
      "execution_count": null,
      "metadata": {
        "id": "DanUM7zx-BcU"
      },
      "outputs": [],
      "source": [
        "import pandas as pd\n",
        "import numpy as np\n"
      ]
    },
    {
      "cell_type": "code",
      "source": [
        "!git clone https://github.com/Ravikbro/Melbourne.git"
      ],
      "metadata": {
        "id": "zm8pzs6G4pJQ"
      },
      "execution_count": null,
      "outputs": []
    },
    {
      "cell_type": "code",
      "source": [
        "df = pd.read_csv(\"https://raw.githubusercontent.com/MansurCompAI/Practicum_Datasets/master/world_cities_air_water_quality.csv\")\n"
      ],
      "metadata": {
        "id": "xsaMWbZE-F_T"
      },
      "execution_count": null,
      "outputs": []
    },
    {
      "cell_type": "code",
      "source": [
        "df.rename(columns={' \"Region\"':\"Region\", ' \"Country\"':\"Country\",' \"AirQuality\"':\"AirQuality\",' \"WaterPollution\"':\"WaterPollution\" }, inplace=True)"
      ],
      "metadata": {
        "id": "mJeXX06F_E-6"
      },
      "execution_count": null,
      "outputs": []
    },
    {
      "cell_type": "code",
      "source": [
        "df"
      ],
      "metadata": {
        "id": "sJqkpmMy-Tod"
      },
      "execution_count": null,
      "outputs": []
    },
    {
      "cell_type": "code",
      "source": [
        "df [\"Region\"]= df[\"Region\"].map(lambda row: row.replace('\"','').strip())\n",
        "df [\"Country\"]= df[\"Country\"].map(lambda row: row.replace('\"','').strip())\n",
        "df.to_csv(\"world_cities_air_water_quality.csv\")"
      ],
      "metadata": {
        "id": "OOOsdBX7_7aP"
      },
      "execution_count": null,
      "outputs": []
    },
    {
      "cell_type": "code",
      "source": [
        "df1 = pd.pivot_table(df, index=[\"Country\", \"City\"])\n",
        "df1.loc[\"Germany\"]"
      ],
      "metadata": {
        "id": "f7izOeYVEePa"
      },
      "execution_count": null,
      "outputs": []
    },
    {
      "cell_type": "markdown",
      "source": [
        "**Markaziy Osiyo davlatlarining havo tozaligi va suv ifloslanishinnig shaharlar kesimi bo'yicha statistikasi**"
      ],
      "metadata": {
        "id": "oAj0z66UMCz2"
      }
    },
    {
      "cell_type": "code",
      "source": [
        "df_ca = df1.loc[[\"Kazakhstan\", \"Kyrgyzstan\", \"Tajikistan\", \"Turkmenistan\", \"Uzbekistan\", \"Afghanistan\" ]]\n",
        "df_ca.sort_values(by=['AirQuality'],ascending=False)"
      ],
      "metadata": {
        "id": "7HSoDpXoF1au"
      },
      "execution_count": null,
      "outputs": []
    },
    {
      "cell_type": "code",
      "source": [
        "df_ca[\"AirPollution\"] = 100-df_ca[\"AirQuality\"]\n",
        "df_ca[\"WaterQuality\"] = 100-df_ca[\"WaterPollution\"]\n",
        "df_ca = pd.DataFrame(data = df_ca.values, index=df_ca.index, columns=[[\"AIR\", \"AIR\", \"WATER\", \"WATER\"],[\"AirQuality\", \"AirPollution\", \"WaterPollution\",\"WaterQuality\" ]])\n",
        "df_ca"
      ],
      "metadata": {
        "id": "uflN67-0RzG1"
      },
      "execution_count": null,
      "outputs": []
    },
    {
      "cell_type": "code",
      "source": [
        "df_ca.columns.names =  [\"Object\", \"Info\"]"
      ],
      "metadata": {
        "id": "nZoIc8GASSfr"
      },
      "execution_count": null,
      "outputs": []
    },
    {
      "cell_type": "code",
      "source": [
        "df_ca"
      ],
      "metadata": {
        "id": "rWcXFFt7TxAh"
      },
      "execution_count": null,
      "outputs": []
    },
    {
      "cell_type": "code",
      "source": [
        ""
      ],
      "metadata": {
        "id": "1pofJljDULDW"
      },
      "execution_count": null,
      "outputs": []
    }
  ]
}