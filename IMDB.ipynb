{
  "nbformat": 4,
  "nbformat_minor": 0,
  "metadata": {
    "colab": {
      "name": "IMDB.ipynb",
      "private_outputs": true,
      "provenance": []
    },
    "kernelspec": {
      "name": "python3",
      "display_name": "Python 3"
    },
    "language_info": {
      "name": "python"
    }
  },
  "cells": [
    {
      "cell_type": "code",
      "execution_count": null,
      "metadata": {
        "id": "kMjYDUREILdP"
      },
      "outputs": [],
      "source": [
        "import pandas as pd\n",
        "import numpy as np"
      ]
    },
    {
      "cell_type": "code",
      "source": [
        "!git clone https://github.com/Ravikbro/Melbourne.git"
      ],
      "metadata": {
        "id": "jhm-tECVIQGK"
      },
      "execution_count": null,
      "outputs": []
    },
    {
      "cell_type": "code",
      "source": [
        "movies = pd.read_csv('/content/Melbourne/IMDb_movies.csv')\n",
        "movies.info()"
      ],
      "metadata": {
        "id": "wc_l0qeTKheg"
      },
      "execution_count": null,
      "outputs": []
    },
    {
      "cell_type": "code",
      "source": [
        "ratings = pd.read_csv('/content/Melbourne/IMDb_ratings.csv')\n",
        "ratings.info()"
      ],
      "metadata": {
        "id": "wDXcHVMaM1rL"
      },
      "execution_count": null,
      "outputs": []
    },
    {
      "cell_type": "code",
      "source": [
        "movierating = pd.merge(movies,ratings)\n",
        "movierating"
      ],
      "metadata": {
        "id": "Nm_bMMk5NVxa"
      },
      "execution_count": null,
      "outputs": []
    },
    {
      "cell_type": "code",
      "source": [
        "movierating.columns"
      ],
      "metadata": {
        "id": "99V-2cUwXXJG"
      },
      "execution_count": null,
      "outputs": []
    },
    {
      "cell_type": "code",
      "source": [
        "movierating = movierating[['title', 'year', 'weighted_average_vote']]\n",
        "movierating"
      ],
      "metadata": {
        "id": "I9RQR1rXXd8D"
      },
      "execution_count": null,
      "outputs": []
    },
    {
      "cell_type": "markdown",
      "source": [
        "**Natijaviy qiymat sifatida kinoning name va date ustunlar va unga berilgan rating_awarage lar olindi**"
      ],
      "metadata": {
        "id": "8YEK58O2Zeim"
      }
    },
    {
      "cell_type": "code",
      "source": [
        "result = movierating.rename(columns={\"title\":\"Kino nomi\", \"year\":\"Chiqarilgan yili\", \"weighted_average_vote\":\"Baholash qiymati\"}).sort_values(by=\"Baholash qiymati\", ascending=False)\n",
        "result"
      ],
      "metadata": {
        "id": "FIfekS41X4jj"
      },
      "execution_count": null,
      "outputs": []
    },
    {
      "cell_type": "code",
      "source": [
        ""
      ],
      "metadata": {
        "id": "qfp7qHEeY_ng"
      },
      "execution_count": null,
      "outputs": []
    }
  ]
}